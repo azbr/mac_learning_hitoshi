{
 "cells": [
  {
   "cell_type": "markdown",
   "metadata": {},
   "source": [
    "# Tarefa 2 - CNN\n",
    "\n",
    "## Modelo de CNN para Desenhos\n",
    "\n",
    "## Prof. Hitoshi Nagano"
   ]
  },
  {
   "cell_type": "markdown",
   "metadata": {},
   "source": [
    "Aluno: Glauco Azevedo"
   ]
  },
  {
   "cell_type": "code",
   "execution_count": 28,
   "metadata": {
    "ExecuteTime": {
     "end_time": "2018-10-22T20:40:02.931672Z",
     "start_time": "2018-10-22T20:40:02.922492Z"
    }
   },
   "outputs": [],
   "source": [
    "import time\n",
    "import os, shutil\n",
    "import matplotlib.pyplot as plt\n",
    "import numpy as np\n",
    "\n",
    "%matplotlib inline\n",
    "\n",
    "from keras import models\n",
    "from keras.layers import MaxPool2D, Convolution2D, Flatten, Dropout, Dense\n",
    "from keras.optimizers import SGD, Adam, RMSprop\n",
    "from keras.preprocessing.image import ImageDataGenerator, load_img, img_to_array, array_to_img\n",
    "from keras.applications import VGG16"
   ]
  },
  {
   "cell_type": "code",
   "execution_count": 2,
   "metadata": {
    "ExecuteTime": {
     "end_time": "2018-10-22T20:06:12.132338Z",
     "start_time": "2018-10-22T20:06:12.118858Z"
    }
   },
   "outputs": [
    {
     "data": {
      "text/plain": [
       "u'/mnt/64229DE2229DBA0E/Dropbox/ITAU/Curso_Analytics/Mac_Learning/Aula 17'"
      ]
     },
     "execution_count": 2,
     "metadata": {},
     "output_type": "execute_result"
    }
   ],
   "source": [
    "pwd"
   ]
  },
  {
   "cell_type": "markdown",
   "metadata": {},
   "source": [
    "## Leitura das imagens"
   ]
  },
  {
   "cell_type": "code",
   "execution_count": 8,
   "metadata": {
    "ExecuteTime": {
     "end_time": "2018-10-22T20:18:10.168410Z",
     "start_time": "2018-10-22T20:18:10.159146Z"
    }
   },
   "outputs": [],
   "source": [
    "train_dir = 'train'\n",
    "validation_dir = 'validation'\n",
    "\n",
    "validation_set_boas = 'validation/Imagens boas/'\n",
    "validation_set_ruins = 'validation/Imagens ruins/'\n",
    "\n",
    "test_set = 'test_sem_label/'"
   ]
  },
  {
   "cell_type": "code",
   "execution_count": 44,
   "metadata": {
    "ExecuteTime": {
     "end_time": "2018-10-22T20:52:55.202727Z",
     "start_time": "2018-10-22T20:52:54.986239Z"
    }
   },
   "outputs": [
    {
     "name": "stdout",
     "output_type": "stream",
     "text": [
      "Found 187 images belonging to 2 classes.\n",
      "Found 63 images belonging to 2 classes.\n"
     ]
    }
   ],
   "source": [
    "train_gen = ImageDataGenerator(rescale=1./255)\n",
    "val_gen = ImageDataGenerator(rescale=1./255)\n",
    "\n",
    "train_generator = train_gen.flow_from_directory(\n",
    "    train_dir,\n",
    "    target_size=(150, 150),\n",
    "    batch_size=20,\n",
    "    class_mode='binary')\n",
    "\n",
    "val_generator = val_gen.flow_from_directory(\n",
    "    validation_dir,\n",
    "    target_size=(150, 150),\n",
    "    batch_size=20,\n",
    "    class_mode='binary')"
   ]
  },
  {
   "cell_type": "markdown",
   "metadata": {},
   "source": [
    "Escolhendo um modelo pré-treinado"
   ]
  },
  {
   "cell_type": "code",
   "execution_count": 53,
   "metadata": {
    "ExecuteTime": {
     "end_time": "2018-10-22T20:58:43.085326Z",
     "start_time": "2018-10-22T20:58:42.231493Z"
    }
   },
   "outputs": [],
   "source": [
    "conv_vgg16 = VGG16(weights='imagenet', include_top=False, \n",
    "              input_shape=(150, 150, 3))"
   ]
  },
  {
   "cell_type": "markdown",
   "metadata": {},
   "source": [
    "## Customizando para fazer um fine-tuning"
   ]
  },
  {
   "cell_type": "code",
   "execution_count": 99,
   "metadata": {
    "ExecuteTime": {
     "end_time": "2018-10-22T21:40:22.535047Z",
     "start_time": "2018-10-22T21:40:22.461323Z"
    }
   },
   "outputs": [],
   "source": [
    "model = models.Sequential([\n",
    "    conv_vgg16,\n",
    "    Flatten(),\n",
    "    Dropout(.5),\n",
    "    Dense(512, activation='relu'),\n",
    "    Dropout(.5),\n",
    "    Dense(1, activation='sigmoid')    \n",
    "])"
   ]
  },
  {
   "cell_type": "code",
   "execution_count": 100,
   "metadata": {
    "ExecuteTime": {
     "end_time": "2018-10-22T21:40:24.353313Z",
     "start_time": "2018-10-22T21:40:24.348997Z"
    }
   },
   "outputs": [],
   "source": [
    "conv_vgg16.trainable = False"
   ]
  },
  {
   "cell_type": "code",
   "execution_count": 101,
   "metadata": {
    "ExecuteTime": {
     "end_time": "2018-10-22T21:40:24.750586Z",
     "start_time": "2018-10-22T21:40:24.743369Z"
    }
   },
   "outputs": [
    {
     "name": "stdout",
     "output_type": "stream",
     "text": [
      "_________________________________________________________________\n",
      "Layer (type)                 Output Shape              Param #   \n",
      "=================================================================\n",
      "vgg16 (Model)                (None, 4, 4, 512)         14714688  \n",
      "_________________________________________________________________\n",
      "flatten_4 (Flatten)          (None, 8192)              0         \n",
      "_________________________________________________________________\n",
      "dropout_3 (Dropout)          (None, 8192)              0         \n",
      "_________________________________________________________________\n",
      "dense_6 (Dense)              (None, 512)               4194816   \n",
      "_________________________________________________________________\n",
      "dropout_4 (Dropout)          (None, 512)               0         \n",
      "_________________________________________________________________\n",
      "dense_7 (Dense)              (None, 1)                 513       \n",
      "=================================================================\n",
      "Total params: 18,910,017\n",
      "Trainable params: 4,195,329\n",
      "Non-trainable params: 14,714,688\n",
      "_________________________________________________________________\n"
     ]
    }
   ],
   "source": [
    "model.summary()"
   ]
  },
  {
   "cell_type": "markdown",
   "metadata": {},
   "source": [
    "Com o RMSprop"
   ]
  },
  {
   "cell_type": "code",
   "execution_count": 102,
   "metadata": {
    "ExecuteTime": {
     "end_time": "2018-10-22T21:40:27.899769Z",
     "start_time": "2018-10-22T21:40:27.869620Z"
    }
   },
   "outputs": [],
   "source": [
    "model.compile(loss='binary_crossentropy',\n",
    "              optimizer=RMSprop(lr=1e-4),\n",
    "              metrics=['acc'])"
   ]
  },
  {
   "cell_type": "markdown",
   "metadata": {},
   "source": [
    "Com o SGD (sem nesterov)"
   ]
  },
  {
   "cell_type": "code",
   "execution_count": 108,
   "metadata": {
    "ExecuteTime": {
     "end_time": "2018-10-22T22:20:04.703347Z",
     "start_time": "2018-10-22T22:20:04.668274Z"
    },
    "deletable": false,
    "editable": false,
    "run_control": {
     "frozen": true
    }
   },
   "outputs": [],
   "source": [
    "model.compile(loss='binary_crossentropy',\n",
    "              optimizer=SGD(lr=1e-4),\n",
    "              metrics=['acc'])"
   ]
  },
  {
   "cell_type": "markdown",
   "metadata": {},
   "source": [
    "Usando RMSprop"
   ]
  },
  {
   "cell_type": "code",
   "execution_count": 103,
   "metadata": {
    "ExecuteTime": {
     "end_time": "2018-10-22T21:41:22.911035Z",
     "start_time": "2018-10-22T21:40:30.637161Z"
    }
   },
   "outputs": [
    {
     "name": "stdout",
     "output_type": "stream",
     "text": [
      "Epoch 1/10\n",
      "100/100 [==============================] - 6s 58ms/step - loss: 0.3330 - acc: 0.8559 - val_loss: 0.3471 - val_acc: 0.8735\n",
      "Epoch 2/10\n",
      "100/100 [==============================] - 5s 51ms/step - loss: 0.1588 - acc: 0.9359 - val_loss: 0.2950 - val_acc: 0.8725\n",
      "Epoch 3/10\n",
      "100/100 [==============================] - 5s 51ms/step - loss: 0.0876 - acc: 0.9656 - val_loss: 0.3306 - val_acc: 0.8855\n",
      "Epoch 4/10\n",
      "100/100 [==============================] - 5s 51ms/step - loss: 0.0617 - acc: 0.9796 - val_loss: 0.3190 - val_acc: 0.8926\n",
      "Epoch 5/10\n",
      "100/100 [==============================] - 5s 52ms/step - loss: 0.0263 - acc: 0.9930 - val_loss: 0.4217 - val_acc: 0.8795\n",
      "Epoch 6/10\n",
      "100/100 [==============================] - 5s 51ms/step - loss: 0.0209 - acc: 0.9935 - val_loss: 0.6045 - val_acc: 0.8792\n",
      "Epoch 7/10\n",
      "100/100 [==============================] - 5s 52ms/step - loss: 0.0137 - acc: 0.9956 - val_loss: 0.4089 - val_acc: 0.8916\n",
      "Epoch 8/10\n",
      "100/100 [==============================] - 5s 51ms/step - loss: 0.0155 - acc: 0.9955 - val_loss: 0.5641 - val_acc: 0.8859\n",
      "Epoch 9/10\n",
      "100/100 [==============================] - 5s 52ms/step - loss: 0.0074 - acc: 0.9975 - val_loss: 0.4976 - val_acc: 0.8916\n",
      "Epoch 10/10\n",
      "100/100 [==============================] - 5s 51ms/step - loss: 0.0037 - acc: 1.0000 - val_loss: 0.9337 - val_acc: 0.8725\n"
     ]
    }
   ],
   "source": [
    "history = model.fit_generator(train_generator, \n",
    "                              steps_per_epoch=100,\n",
    "                              epochs=10, \n",
    "                              validation_data=val_generator,\n",
    "                              validation_steps=10)"
   ]
  },
  {
   "cell_type": "markdown",
   "metadata": {},
   "source": [
    "Usando SGD, com parâmetros default"
   ]
  },
  {
   "cell_type": "code",
   "execution_count": 109,
   "metadata": {
    "ExecuteTime": {
     "end_time": "2018-10-22T22:21:23.347521Z",
     "start_time": "2018-10-22T22:20:32.357424Z"
    },
    "deletable": false,
    "editable": false,
    "run_control": {
     "frozen": true
    },
    "scrolled": true
   },
   "outputs": [
    {
     "name": "stdout",
     "output_type": "stream",
     "text": [
      "Epoch 1/10\n",
      "100/100 [==============================] - 6s 56ms/step - loss: 0.0099 - acc: 0.9975 - val_loss: 0.7967 - val_acc: 0.8859\n",
      "Epoch 2/10\n",
      "100/100 [==============================] - 5s 50ms/step - loss: 0.0110 - acc: 0.9956 - val_loss: 0.8945 - val_acc: 0.8614\n",
      "Epoch 3/10\n",
      "100/100 [==============================] - 5s 50ms/step - loss: 0.0114 - acc: 0.9965 - val_loss: 0.6914 - val_acc: 0.8859\n",
      "Epoch 4/10\n",
      "100/100 [==============================] - 5s 50ms/step - loss: 0.0088 - acc: 0.9965 - val_loss: 0.8610 - val_acc: 0.8614\n",
      "Epoch 5/10\n",
      "100/100 [==============================] - 5s 50ms/step - loss: 0.0129 - acc: 0.9956 - val_loss: 0.6725 - val_acc: 0.8792\n",
      "Epoch 6/10\n",
      "100/100 [==============================] - 5s 51ms/step - loss: 0.0054 - acc: 0.9980 - val_loss: 0.7733 - val_acc: 0.8735\n",
      "Epoch 7/10\n",
      "100/100 [==============================] - 5s 50ms/step - loss: 0.0061 - acc: 0.9985 - val_loss: 0.6682 - val_acc: 0.8725\n",
      "Epoch 8/10\n",
      "100/100 [==============================] - 5s 51ms/step - loss: 0.0034 - acc: 0.9995 - val_loss: 0.7562 - val_acc: 0.8675\n",
      "Epoch 9/10\n",
      "100/100 [==============================] - 5s 50ms/step - loss: 0.0073 - acc: 0.9965 - val_loss: 0.6068 - val_acc: 0.8658\n",
      "Epoch 10/10\n",
      "100/100 [==============================] - 5s 50ms/step - loss: 0.0052 - acc: 0.9990 - val_loss: 0.7090 - val_acc: 0.8554\n"
     ]
    }
   ],
   "source": [
    "history = model.fit_generator(train_generator, \n",
    "                              steps_per_epoch=100,\n",
    "                              epochs=10, \n",
    "                              validation_data=val_generator,\n",
    "                              validation_steps=10)"
   ]
  },
  {
   "cell_type": "code",
   "execution_count": 110,
   "metadata": {
    "ExecuteTime": {
     "end_time": "2018-10-22T22:23:56.887738Z",
     "start_time": "2018-10-22T22:23:56.881737Z"
    }
   },
   "outputs": [],
   "source": [
    "time_format = '%Y-%m-%d %H:%M:%S'\n",
    "hora_exec = time.strftime(time_format)"
   ]
  },
  {
   "cell_type": "code",
   "execution_count": 111,
   "metadata": {
    "ExecuteTime": {
     "end_time": "2018-10-22T22:24:08.279422Z",
     "start_time": "2018-10-22T22:24:07.668700Z"
    }
   },
   "outputs": [],
   "source": [
    "model.save('models/cnn_vgg16_top_trained_v3_sgd_'+hora_exec+'.h5')"
   ]
  },
  {
   "cell_type": "code",
   "execution_count": 112,
   "metadata": {
    "ExecuteTime": {
     "end_time": "2018-10-22T22:24:09.894065Z",
     "start_time": "2018-10-22T22:24:09.760411Z"
    }
   },
   "outputs": [
    {
     "name": "stdout",
     "output_type": "stream",
     "text": [
      "total 270940\r\n",
      "-rwxrwxrwx 1 root root 92478200 Oct 22 18:08 \u001b[0m\u001b[01;32mcnn_vgg16_top_trained_2018-10-22 18:08:07.h5\u001b[0m*\r\n",
      "-rwxrwxrwx 1 root root 92479264 Oct 22 18:41 \u001b[01;32mcnn_vgg16_top_trained_v2_2018-10-22 18:41:22.h5\u001b[0m*\r\n",
      "-rwxrwxrwx 1 root root 92480576 Oct 22 19:24 \u001b[01;32mcnn_vgg16_top_trained_v3_sgd_2018-10-22 19:23:56.h5\u001b[0m*\r\n"
     ]
    }
   ],
   "source": [
    "ls -l models/"
   ]
  },
  {
   "cell_type": "code",
   "execution_count": 113,
   "metadata": {
    "ExecuteTime": {
     "end_time": "2018-10-22T22:24:12.507315Z",
     "start_time": "2018-10-22T22:24:12.213712Z"
    }
   },
   "outputs": [
    {
     "data": {
      "image/png": "[encoded data removed]",
      "text/plain": [
       "<matplotlib.figure.Figure at 0x7fb0d9f55490>"
      ]
     },
     "metadata": {
      "needs_background": "light"
     },
     "output_type": "display_data"
    }
   ],
   "source": [
    "acc = history.history['acc']\n",
    "val_acc = history.history['val_acc']\n",
    "loss = history.history['loss']\n",
    "val_loss = history.history['val_loss']\n",
    "\n",
    "epochs = range(len(acc))\n",
    "\n",
    "fig, ax = plt.subplots(2,1, figsize=(10,10))\n",
    "\n",
    "ax[0].plot(epochs, acc, 'bo', label='Training acc')\n",
    "ax[0].plot(epochs, val_acc, 'b', label='Validation acc')\n",
    "ax[0].set_title('Training and validation accuracy')\n",
    "ax[0].set_ylim(-0.1,1.1)\n",
    "ax[0].legend()\n",
    "\n",
    "ax[1].plot(epochs, loss, 'bo', label='Training loss')\n",
    "ax[1].plot(epochs, val_loss, 'b', label='Validation loss')\n",
    "ax[1].set_title('Training and validation loss')\n",
    "ax[1].legend()\n",
    "\n",
    "plt.savefig('train_val_acc_loss_'+hora_exec+'.pdf')\n",
    "plt.show()"
   ]
  },
  {
   "cell_type": "markdown",
   "metadata": {},
   "source": [
    "Essa abordagem acima, não surtiu muito efeito, com erro de validação muito alto, e acurácia não muito elevada. O modelo parece estar sofrendo de overfitting, devivo a complexidade da VGG sobre o imagenet."
   ]
  },
  {
   "cell_type": "markdown",
   "metadata": {},
   "source": [
    "## Tentativa 2 - Fine Tuning + Data Augmentation"
   ]
  },
  {
   "cell_type": "markdown",
   "metadata": {},
   "source": [
    "Nessa tentativa, será abordada a técnica de fine tuning da VGG16, de modo a realizar o treino sobre uma série de dados aumentados, para tentar ennriquecer o modelo. \n",
    "\n",
    "Além disso, será feita uma transformação de features, a partir das imagens originais, de modo a se pegar **APENAS** as bordas."
   ]
  },
  {
   "cell_type": "markdown",
   "metadata": {},
   "source": [
    "### Feature Transform"
   ]
  },
  {
   "cell_type": "code",
   "execution_count": 153,
   "metadata": {
    "ExecuteTime": {
     "end_time": "2018-10-22T23:39:51.641436Z",
     "start_time": "2018-10-22T23:39:51.631820Z"
    }
   },
   "outputs": [],
   "source": [
    "train_gen = ImageDataGenerator(\n",
    "    rescale=1./255,\n",
    "    vertical_flip=True,\n",
    "    horizontal_flip=True,\n",
    ")\n",
    "\n",
    "\n",
    "val_gen = ImageDataGenerator(\n",
    "    rescale=1./255,\n",
    "    vertical_flip=True,\n",
    "    horizontal_flip=True,\n",
    ")"
   ]
  },
  {
   "cell_type": "code",
   "execution_count": 154,
   "metadata": {
    "ExecuteTime": {
     "end_time": "2018-10-22T23:39:52.078972Z",
     "start_time": "2018-10-22T23:39:51.863957Z"
    }
   },
   "outputs": [
    {
     "name": "stdout",
     "output_type": "stream",
     "text": [
      "Found 187 images belonging to 2 classes.\n",
      "Found 63 images belonging to 2 classes.\n"
     ]
    }
   ],
   "source": [
    "train_generator = train_gen.flow_from_directory(\n",
    "    train_dir,\n",
    "    target_size=(150, 150),\n",
    "    batch_size=20,\n",
    "    class_mode='binary')\n",
    "\n",
    "val_generator = val_gen.flow_from_directory(\n",
    "    validation_dir,\n",
    "    target_size=(150, 150),\n",
    "    batch_size=20,\n",
    "    class_mode='binary')"
   ]
  },
  {
   "cell_type": "code",
   "execution_count": 196,
   "metadata": {
    "ExecuteTime": {
     "end_time": "2018-10-23T02:55:42.034032Z",
     "start_time": "2018-10-23T02:55:41.913707Z"
    }
   },
   "outputs": [
    {
     "data": {
      "text/plain": [
       "(array([  25.,    0.,    0.,    0.,    0.,    0.,    0.,    0.,    0.,  162.]),\n",
       " array([ 0. ,  0.1,  0.2,  0.3,  0.4,  0.5,  0.6,  0.7,  0.8,  0.9,  1. ]),\n",
       " <a list of 10 Patch objects>)"
      ]
     },
     "execution_count": 196,
     "metadata": {},
     "output_type": "execute_result"
    },
    {
     "data": {
      "image/png": "[encoded data removed]",
      "text/plain": [
       "<matplotlib.figure.Figure at 0x7fb0a46edcd0>"
      ]
     },
     "metadata": {
      "needs_background": "light"
     },
     "output_type": "display_data"
    }
   ],
   "source": [
    "plt.hist(train_generator.classes)"
   ]
  },
  {
   "cell_type": "code",
   "execution_count": null,
   "metadata": {},
   "outputs": [],
   "source": []
  },
  {
   "cell_type": "code",
   "execution_count": 161,
   "metadata": {
    "ExecuteTime": {
     "end_time": "2018-10-23T02:46:59.102745Z",
     "start_time": "2018-10-23T02:46:58.363026Z"
    }
   },
   "outputs": [],
   "source": [
    "conv_vgg16 = VGG16(weights='imagenet', include_top=False, \n",
    "              input_shape=(150, 150, 3))"
   ]
  },
  {
   "cell_type": "code",
   "execution_count": 187,
   "metadata": {
    "ExecuteTime": {
     "end_time": "2018-10-23T02:52:49.779651Z",
     "start_time": "2018-10-23T02:52:49.706097Z"
    }
   },
   "outputs": [],
   "source": [
    "model2 = models.Sequential([\n",
    "    conv_vgg16,\n",
    "    Flatten(),\n",
    "    Dropout(.2),\n",
    "    Dense(64, activation='relu'),\n",
    "    Dropout(.2),\n",
    "    Dense(1, activation='sigmoid')\n",
    "])"
   ]
  },
  {
   "cell_type": "code",
   "execution_count": 188,
   "metadata": {
    "ExecuteTime": {
     "end_time": "2018-10-23T02:52:50.406442Z",
     "start_time": "2018-10-23T02:52:50.401195Z"
    }
   },
   "outputs": [],
   "source": [
    "conv_vgg16.trainable = False"
   ]
  },
  {
   "cell_type": "code",
   "execution_count": 189,
   "metadata": {
    "ExecuteTime": {
     "end_time": "2018-10-23T02:52:53.127072Z",
     "start_time": "2018-10-23T02:52:53.119164Z"
    }
   },
   "outputs": [],
   "source": [
    "conv_vgg16.trainable = True\n",
    "\n",
    "set_trainable = False\n",
    "for layer in conv_vgg16.layers:\n",
    "    if layer.name == 'block5_conv1':\n",
    "        set_trainable = True\n",
    "    if set_trainable:\n",
    "        layer.trainable = True\n",
    "    else:\n",
    "        layer.trainable = False"
   ]
  },
  {
   "cell_type": "code",
   "execution_count": 190,
   "metadata": {
    "ExecuteTime": {
     "end_time": "2018-10-23T02:52:54.617543Z",
     "start_time": "2018-10-23T02:52:54.587878Z"
    }
   },
   "outputs": [],
   "source": [
    "model2.compile(loss='binary_crossentropy',\n",
    "              optimizer=RMSprop(lr=1e-5),\n",
    "              metrics=['acc'])"
   ]
  },
  {
   "cell_type": "code",
   "execution_count": 191,
   "metadata": {
    "ExecuteTime": {
     "end_time": "2018-10-23T02:53:37.088661Z",
     "start_time": "2018-10-23T02:52:55.527478Z"
    }
   },
   "outputs": [
    {
     "name": "stdout",
     "output_type": "stream",
     "text": [
      "Epoch 1/10\n",
      "50/50 [==============================] - 5s 103ms/step - loss: 0.4066 - acc: 0.8539 - val_loss: 0.3602 - val_acc: 0.8599\n",
      "Epoch 2/10\n",
      "50/50 [==============================] - 4s 81ms/step - loss: 0.3061 - acc: 0.8739 - val_loss: 0.3353 - val_acc: 0.8565\n",
      "Epoch 3/10\n",
      "50/50 [==============================] - 4s 80ms/step - loss: 0.2415 - acc: 0.8839 - val_loss: 0.2793 - val_acc: 0.8664\n",
      "Epoch 4/10\n",
      "50/50 [==============================] - 4s 81ms/step - loss: 0.1671 - acc: 0.9341 - val_loss: 0.2372 - val_acc: 0.8898\n",
      "Epoch 5/10\n",
      "50/50 [==============================] - 4s 80ms/step - loss: 0.1208 - acc: 0.9641 - val_loss: 0.2356 - val_acc: 0.8966\n",
      "Epoch 6/10\n",
      "50/50 [==============================] - 4s 81ms/step - loss: 0.0775 - acc: 0.9810 - val_loss: 0.2547 - val_acc: 0.8857\n",
      "Epoch 7/10\n",
      "50/50 [==============================] - 4s 80ms/step - loss: 0.0614 - acc: 0.9852 - val_loss: 0.2693 - val_acc: 0.8901\n",
      "Epoch 8/10\n",
      "50/50 [==============================] - 4s 81ms/step - loss: 0.0430 - acc: 0.9922 - val_loss: 0.2147 - val_acc: 0.9044\n",
      "Epoch 9/10\n",
      "50/50 [==============================] - 4s 80ms/step - loss: 0.0272 - acc: 0.9960 - val_loss: 0.3623 - val_acc: 0.8901\n",
      "Epoch 10/10\n",
      "50/50 [==============================] - 4s 81ms/step - loss: 0.0206 - acc: 0.9980 - val_loss: 0.2048 - val_acc: 0.9064\n"
     ]
    }
   ],
   "source": [
    "history = model2.fit_generator(train_generator,\n",
    "                                steps_per_epoch=50,\n",
    "                                epochs=10,\n",
    "                                validation_data=val_generator,\n",
    "                                validation_steps=30)"
   ]
  },
  {
   "cell_type": "code",
   "execution_count": 192,
   "metadata": {
    "ExecuteTime": {
     "end_time": "2018-10-23T02:53:49.610218Z",
     "start_time": "2018-10-23T02:53:49.602770Z"
    }
   },
   "outputs": [],
   "source": [
    "time_format = '%Y-%m-%d %H:%M:%S'\n",
    "hora_exec = time.strftime(time_format)"
   ]
  },
  {
   "cell_type": "code",
   "execution_count": 208,
   "metadata": {
    "ExecuteTime": {
     "end_time": "2018-10-23T12:05:35.625289Z",
     "start_time": "2018-10-23T12:05:35.185555Z"
    }
   },
   "outputs": [],
   "source": [
    "model.save('models/cnn_vgg16_top_trained_v4_rmsprop_'+hora_exec+'.h5')"
   ]
  },
  {
   "cell_type": "code",
   "execution_count": 209,
   "metadata": {
    "ExecuteTime": {
     "end_time": "2018-10-23T12:05:39.087565Z",
     "start_time": "2018-10-23T12:05:38.953299Z"
    }
   },
   "outputs": [
    {
     "name": "stdout",
     "output_type": "stream",
     "text": [
      "total 541888\r\n",
      "-rwxrwxrwx 1 root root 92478200 Oct 22 18:08 \u001b[0m\u001b[01;32mcnn_vgg16_top_trained_2018-10-22 18:08:07.h5\u001b[0m*\r\n",
      "-rwxrwxrwx 1 root root 92479264 Oct 22 18:41 \u001b[01;32mcnn_vgg16_top_trained_v2_2018-10-22 18:41:22.h5\u001b[0m*\r\n",
      "-rwxrwxrwx 1 root root 92480576 Oct 22 19:24 \u001b[01;32mcnn_vgg16_top_trained_v3_sgd_2018-10-22 19:23:56.h5\u001b[0m*\r\n",
      "-rwxrwxrwx 1 root root 92480080 Oct 22 20:37 \u001b[01;32mcnn_vgg16_top_trained_v4_rmsprop_2018-10-22 20:37:32.h5\u001b[0m*\r\n",
      "-rwxrwxrwx 1 root root 92480080 Oct 22 20:39 \u001b[01;32mcnn_vgg16_top_trained_v4_rmsprop_2018-10-22 20:39:17.h5\u001b[0m*\r\n",
      "-rwxrwxrwx 1 root root 92480080 Oct 23 09:05 \u001b[01;32mcnn_vgg16_top_trained_v4_rmsprop_2018-10-22 23:53:49.h5\u001b[0m*\r\n"
     ]
    }
   ],
   "source": [
    "ls -l models/"
   ]
  },
  {
   "cell_type": "code",
   "execution_count": 194,
   "metadata": {
    "ExecuteTime": {
     "end_time": "2018-10-23T02:53:59.916805Z",
     "start_time": "2018-10-23T02:53:59.629996Z"
    }
   },
   "outputs": [
    {
     "data": {
      "image/png": "[encoded data removed]",
      "text/plain": [
       "<matplotlib.figure.Figure at 0x7fb0a469dfd0>"
      ]
     },
     "metadata": {
      "needs_background": "light"
     },
     "output_type": "display_data"
    }
   ],
   "source": [
    "acc = history.history['acc']\n",
    "val_acc = history.history['val_acc']\n",
    "loss = history.history['loss']\n",
    "val_loss = history.history['val_loss']\n",
    "\n",
    "epochs = range(len(acc))\n",
    "\n",
    "fig, ax = plt.subplots(2,1, figsize=(10,10))\n",
    "\n",
    "ax[0].plot(epochs, acc, 'bo', label='Training acc')\n",
    "ax[0].plot(epochs, val_acc, 'b', label='Validation acc')\n",
    "ax[0].set_title('Training and validation accuracy')\n",
    "ax[0].set_ylim(-0.1,1.1)\n",
    "ax[0].legend()\n",
    "\n",
    "ax[1].plot(epochs, loss, 'bo', label='Training loss')\n",
    "ax[1].plot(epochs, val_loss, 'b', label='Validation loss')\n",
    "ax[1].set_title('Training and validation loss')\n",
    "ax[1].legend()\n",
    "\n",
    "plt.savefig('train_val_acc_loss_'+hora_exec+'.pdf')\n",
    "plt.show()"
   ]
  },
  {
   "cell_type": "markdown",
   "metadata": {},
   "source": [
    "Pelo visto, apenas com transfer learning e uma breve data augmentation não esteja bastando. vamos tentar com um pequeno feature transform"
   ]
  },
  {
   "cell_type": "code",
   "execution_count": null,
   "metadata": {},
   "outputs": [],
   "source": []
  },
  {
   "cell_type": "code",
   "execution_count": 203,
   "metadata": {
    "ExecuteTime": {
     "end_time": "2018-10-23T03:12:08.985563Z",
     "start_time": "2018-10-23T03:12:08.974767Z"
    }
   },
   "outputs": [
    {
     "data": {
      "text/plain": [
       "64"
      ]
     },
     "execution_count": 203,
     "metadata": {},
     "output_type": "execute_result"
    }
   ],
   "source": [
    "len(os.listdir('test_sem_label/'))"
   ]
  },
  {
   "cell_type": "code",
   "execution_count": 207,
   "metadata": {
    "ExecuteTime": {
     "end_time": "2018-10-23T03:16:41.300943Z",
     "start_time": "2018-10-23T03:16:41.158659Z"
    }
   },
   "outputs": [
    {
     "name": "stdout",
     "output_type": "stream",
     "text": [
      "Found 0 images belonging to 0 classes.\n"
     ]
    },
    {
     "ename": "ZeroDivisionError",
     "evalue": "integer division or modulo by zero",
     "output_type": "error",
     "traceback": [
      "\u001b[0;31m---------------------------------------------------------------------------\u001b[0m",
      "\u001b[0;31mZeroDivisionError\u001b[0m                         Traceback (most recent call last)",
      "\u001b[0;32m<ipython-input-207-d789f96a98e2>\u001b[0m in \u001b[0;36m<module>\u001b[0;34m()\u001b[0m\n\u001b[1;32m     24\u001b[0m \u001b[0;31m# train_features, train_labels = extract_features(train_dir, 2000)\u001b[0m\u001b[0;34m\u001b[0m\u001b[0;34m\u001b[0m\u001b[0m\n\u001b[1;32m     25\u001b[0m \u001b[0;31m# validation_features, validation_labels = extract_features(validation_dir, 1000)\u001b[0m\u001b[0;34m\u001b[0m\u001b[0;34m\u001b[0m\u001b[0m\n\u001b[0;32m---> 26\u001b[0;31m \u001b[0mtest_features\u001b[0m\u001b[0;34m,\u001b[0m \u001b[0mtest_labels\u001b[0m \u001b[0;34m=\u001b[0m \u001b[0mextract_features\u001b[0m\u001b[0;34m(\u001b[0m\u001b[0mtest_set\u001b[0m\u001b[0;34m,\u001b[0m \u001b[0mlen\u001b[0m\u001b[0;34m(\u001b[0m\u001b[0mos\u001b[0m\u001b[0;34m.\u001b[0m\u001b[0mlistdir\u001b[0m\u001b[0;34m(\u001b[0m\u001b[0mtest_set\u001b[0m\u001b[0;34m)\u001b[0m\u001b[0;34m)\u001b[0m\u001b[0;34m)\u001b[0m\u001b[0;34m\u001b[0m\u001b[0m\n\u001b[0m",
      "\u001b[0;32m<ipython-input-207-d789f96a98e2>\u001b[0m in \u001b[0;36mextract_features\u001b[0;34m(directory, sample_count)\u001b[0m\n\u001b[1;32m     10\u001b[0m         class_mode='binary')\n\u001b[1;32m     11\u001b[0m     \u001b[0mi\u001b[0m \u001b[0;34m=\u001b[0m \u001b[0;36m0\u001b[0m\u001b[0;34m\u001b[0m\u001b[0m\n\u001b[0;32m---> 12\u001b[0;31m     \u001b[0;32mfor\u001b[0m \u001b[0minputs_batch\u001b[0m\u001b[0;34m,\u001b[0m \u001b[0mlabels_batch\u001b[0m \u001b[0;32min\u001b[0m \u001b[0mgenerator\u001b[0m\u001b[0;34m:\u001b[0m\u001b[0;34m\u001b[0m\u001b[0m\n\u001b[0m\u001b[1;32m     13\u001b[0m         \u001b[0mfeatures_batch\u001b[0m \u001b[0;34m=\u001b[0m \u001b[0mmodel2\u001b[0m\u001b[0;34m.\u001b[0m\u001b[0mpredict\u001b[0m\u001b[0;34m(\u001b[0m\u001b[0minputs_batch\u001b[0m\u001b[0;34m)\u001b[0m\u001b[0;34m\u001b[0m\u001b[0m\n\u001b[1;32m     14\u001b[0m         \u001b[0mfeatures\u001b[0m\u001b[0;34m[\u001b[0m\u001b[0mi\u001b[0m \u001b[0;34m*\u001b[0m \u001b[0mbatch_size\u001b[0m \u001b[0;34m:\u001b[0m \u001b[0;34m(\u001b[0m\u001b[0mi\u001b[0m \u001b[0;34m+\u001b[0m \u001b[0;36m1\u001b[0m\u001b[0;34m)\u001b[0m \u001b[0;34m*\u001b[0m \u001b[0mbatch_size\u001b[0m\u001b[0;34m]\u001b[0m \u001b[0;34m=\u001b[0m \u001b[0mfeatures_batch\u001b[0m\u001b[0;34m\u001b[0m\u001b[0m\n",
      "\u001b[0;32m/home/az-br/anaconda3/envs/tf-gpu/lib/python2.7/site-packages/keras_preprocessing/image.pyc\u001b[0m in \u001b[0;36mnext\u001b[0;34m(self)\u001b[0m\n\u001b[1;32m   1965\u001b[0m         \"\"\"\n\u001b[1;32m   1966\u001b[0m         \u001b[0;32mwith\u001b[0m \u001b[0mself\u001b[0m\u001b[0;34m.\u001b[0m\u001b[0mlock\u001b[0m\u001b[0;34m:\u001b[0m\u001b[0;34m\u001b[0m\u001b[0m\n\u001b[0;32m-> 1967\u001b[0;31m             \u001b[0mindex_array\u001b[0m \u001b[0;34m=\u001b[0m \u001b[0mnext\u001b[0m\u001b[0;34m(\u001b[0m\u001b[0mself\u001b[0m\u001b[0;34m.\u001b[0m\u001b[0mindex_generator\u001b[0m\u001b[0;34m)\u001b[0m\u001b[0;34m\u001b[0m\u001b[0m\n\u001b[0m\u001b[1;32m   1968\u001b[0m         \u001b[0;31m# The transformation of images is not under thread lock\u001b[0m\u001b[0;34m\u001b[0m\u001b[0;34m\u001b[0m\u001b[0m\n\u001b[1;32m   1969\u001b[0m         \u001b[0;31m# so it can be done in parallel\u001b[0m\u001b[0;34m\u001b[0m\u001b[0;34m\u001b[0m\u001b[0m\n",
      "\u001b[0;32m/home/az-br/anaconda3/envs/tf-gpu/lib/python2.7/site-packages/keras_preprocessing/image.pyc\u001b[0m in \u001b[0;36m_flow_index\u001b[0;34m(self)\u001b[0m\n\u001b[1;32m   1509\u001b[0m                 \u001b[0mself\u001b[0m\u001b[0;34m.\u001b[0m\u001b[0m_set_index_array\u001b[0m\u001b[0;34m(\u001b[0m\u001b[0;34m)\u001b[0m\u001b[0;34m\u001b[0m\u001b[0m\n\u001b[1;32m   1510\u001b[0m \u001b[0;34m\u001b[0m\u001b[0m\n\u001b[0;32m-> 1511\u001b[0;31m             \u001b[0mcurrent_index\u001b[0m \u001b[0;34m=\u001b[0m \u001b[0;34m(\u001b[0m\u001b[0mself\u001b[0m\u001b[0;34m.\u001b[0m\u001b[0mbatch_index\u001b[0m \u001b[0;34m*\u001b[0m \u001b[0mself\u001b[0m\u001b[0;34m.\u001b[0m\u001b[0mbatch_size\u001b[0m\u001b[0;34m)\u001b[0m \u001b[0;34m%\u001b[0m \u001b[0mself\u001b[0m\u001b[0;34m.\u001b[0m\u001b[0mn\u001b[0m\u001b[0;34m\u001b[0m\u001b[0m\n\u001b[0m\u001b[1;32m   1512\u001b[0m             \u001b[0;32mif\u001b[0m \u001b[0mself\u001b[0m\u001b[0;34m.\u001b[0m\u001b[0mn\u001b[0m \u001b[0;34m>\u001b[0m \u001b[0mcurrent_index\u001b[0m \u001b[0;34m+\u001b[0m \u001b[0mself\u001b[0m\u001b[0;34m.\u001b[0m\u001b[0mbatch_size\u001b[0m\u001b[0;34m:\u001b[0m\u001b[0;34m\u001b[0m\u001b[0m\n\u001b[1;32m   1513\u001b[0m                 \u001b[0mself\u001b[0m\u001b[0;34m.\u001b[0m\u001b[0mbatch_index\u001b[0m \u001b[0;34m+=\u001b[0m \u001b[0;36m1\u001b[0m\u001b[0;34m\u001b[0m\u001b[0m\n",
      "\u001b[0;31mZeroDivisionError\u001b[0m: integer division or modulo by zero"
     ]
    }
   ],
   "source": [
    "batch_size = 20\n",
    "\n",
    "def extract_features(directory, sample_count):\n",
    "    features = np.zeros(shape=(sample_count, 1))\n",
    "    labels = np.zeros(shape=(sample_count))\n",
    "    generator = datagen.flow_from_directory(\n",
    "        directory,\n",
    "        target_size=(150, 150),\n",
    "        batch_size=batch_size,\n",
    "        class_mode='binary')\n",
    "    i = 0\n",
    "    for inputs_batch, labels_batch in generator:\n",
    "        features_batch = model2.predict(inputs_batch)\n",
    "        features[i * batch_size : (i + 1) * batch_size] = features_batch\n",
    "        labels[i * batch_size : (i + 1) * batch_size] = labels_batch\n",
    "        i += 1\n",
    "        if i * batch_size >= sample_count:\n",
    "            # Note that since generators yield data indefinitely in a loop,\n",
    "            # we must `break` after every image has been seen once.\n",
    "            break\n",
    "    return features, labels\n",
    "\n",
    "\n",
    "# train_features, train_labels = extract_features(train_dir, 2000)\n",
    "# validation_features, validation_labels = extract_features(validation_dir, 1000)\n",
    "test_features, test_labels = extract_features(test_set, len(os.listdir(test_set)))"
   ]
  }
 ],
 "metadata": {
  "kernelspec": {
   "display_name": "TensorFlow-GPU",
   "language": "python",
   "name": "tf-gpu"
  },
  "language_info": {
   "codemirror_mode": {
    "name": "ipython",
    "version": 2
   },
   "file_extension": ".py",
   "mimetype": "text/x-python",
   "name": "python",
   "nbconvert_exporter": "python",
   "pygments_lexer": "ipython2",
   "version": "2.7.15"
  },
  "toc": {
   "nav_menu": {},
   "number_sections": true,
   "sideBar": true,
   "skip_h1_title": false,
   "toc_cell": false,
   "toc_position": {},
   "toc_section_display": "block",
   "toc_window_display": false
  },
  "varInspector": {
   "cols": {
    "lenName": 16,
    "lenType": 16,
    "lenVar": 40
   },
   "kernels_config": {
    "python": {
     "delete_cmd_postfix": "",
     "delete_cmd_prefix": "del ",
     "library": "var_list.py",
     "varRefreshCmd": "print(var_dic_list())"
    },
    "r": {
     "delete_cmd_postfix": ") ",
     "delete_cmd_prefix": "rm(",
     "library": "var_list.r",
     "varRefreshCmd": "cat(var_dic_list()) "
    }
   },
   "types_to_exclude": [
    "module",
    "function",
    "builtin_function_or_method",
    "instance",
    "_Feature"
   ],
   "window_display": false
  }
 },
 "nbformat": 4,
 "nbformat_minor": 2
}
